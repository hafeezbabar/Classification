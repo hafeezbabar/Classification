{
  "nbformat": 4,
  "nbformat_minor": 0,
  "metadata": {
    "colab": {
      "provenance": [],
      "gpuType": "T4",
      "collapsed_sections": [
        "uUYLgE3LTuHF",
        "cUk2eKRatbML",
        "7C-MTKU0T1_0",
        "LDm98_wXT6lC",
        "p7wH5zhBT_MN",
        "IaW5b0UmUCxV",
        "Tuv9mACHUGc_",
        "uwjYfDoHYGpG",
        "w9f3dGgFYBxs",
        "Bb06-vAGt5EV",
        "s68JryYjYhyN",
        "Uu-f0aXNY102",
        "xE9Wlj13ZagK",
        "fLD2wBgacnIB",
        "g18-M5c0cXXR",
        "1cLViPSccETJ",
        "vpMBAmjZcAIm"
      ]
    },
    "kernelspec": {
      "name": "python3",
      "display_name": "Python 3"
    },
    "language_info": {
      "name": "python"
    },
    "accelerator": "GPU"
  },
  "cells": [
    {
      "cell_type": "markdown",
      "source": [
        "### Setting Environment"
      ],
      "metadata": {
        "id": "uUYLgE3LTuHF"
      }
    },
    {
      "cell_type": "code",
      "execution_count": null,
      "metadata": {
        "id": "97_4iZb_EI91"
      },
      "outputs": [],
      "source": [
        "import os\n",
        "os.environ['KAGGLE_CONFIG_DIR'] = \"/content/drive/MyDrive/kaggle\""
      ]
    },
    {
      "cell_type": "code",
      "source": [
        "import tensorflow as tf\n",
        "import numpy as np\n",
        "import pandas as pd\n",
        "import matplotlib.pyplot as plt\n",
        "from tensorflow import keras"
      ],
      "metadata": {
        "id": "VNfz4ybzEkN0"
      },
      "execution_count": null,
      "outputs": []
    },
    {
      "cell_type": "code",
      "source": [
        "%cd /content/drive/MyDrive/kaggle"
      ],
      "metadata": {
        "colab": {
          "base_uri": "https://localhost:8080/"
        },
        "id": "P_60eHaXE5ig",
        "outputId": "8d3a4ca1-d625-4cde-9f79-3ae18d8b1af6"
      },
      "execution_count": null,
      "outputs": [
        {
          "output_type": "stream",
          "name": "stdout",
          "text": [
            "/content/drive/MyDrive/kaggle\n"
          ]
        }
      ]
    },
    {
      "cell_type": "code",
      "source": [
        "!ls"
      ],
      "metadata": {
        "colab": {
          "base_uri": "https://localhost:8080/"
        },
        "id": "3E1cL6cnE9B2",
        "outputId": "1fc072bc-96f7-4747-9e2d-abae9089391e"
      },
      "execution_count": null,
      "outputs": [
        {
          "output_type": "stream",
          "name": "stdout",
          "text": [
            "data\t\t\t\tkaggle.json\t\t\t     test\n",
            "Grapevine_Leaves_Image_Dataset\tskin-cancer-malignant-vs-benign.zip  train\n"
          ]
        }
      ]
    },
    {
      "cell_type": "markdown",
      "source": [
        "## skin-cancer Dataset"
      ],
      "metadata": {
        "id": "cUk2eKRatbML"
      }
    },
    {
      "cell_type": "markdown",
      "source": [
        "### Extraction and Unzipping Dataset from Kaggle"
      ],
      "metadata": {
        "id": "qZ1aDQSvTyf1"
      }
    },
    {
      "cell_type": "code",
      "source": [
        "!kaggle datasets download -d fanconic/skin-cancer-malignant-vs-benign --unzip --force"
      ],
      "metadata": {
        "colab": {
          "base_uri": "https://localhost:8080/"
        },
        "id": "FXGdDPEuE9gW",
        "outputId": "6f773e74-d4eb-4649-9251-178a05546407"
      },
      "execution_count": null,
      "outputs": [
        {
          "output_type": "stream",
          "name": "stdout",
          "text": [
            "Downloading skin-cancer-malignant-vs-benign.zip to /content/drive/MyDrive/kaggle\n",
            " 95% 309M/325M [00:10<00:00, 105MB/s] \n",
            "100% 325M/325M [00:10<00:00, 33.0MB/s]\n",
            "User cancelled operation\n"
          ]
        }
      ]
    },
    {
      "cell_type": "markdown",
      "source": [
        "### Load and Check Images"
      ],
      "metadata": {
        "id": "7C-MTKU0T1_0"
      }
    },
    {
      "cell_type": "code",
      "source": [
        "## Load and Check Images\n",
        "from tensorflow.keras.utils import load_img"
      ],
      "metadata": {
        "id": "3gScIX9jFIh6"
      },
      "execution_count": null,
      "outputs": []
    },
    {
      "cell_type": "markdown",
      "source": [
        "### Show an Image"
      ],
      "metadata": {
        "id": "LDm98_wXT6lC"
      }
    },
    {
      "cell_type": "code",
      "source": [
        "img = load_img(\"/content/drive/MyDrive/kaggle/train/benign/100.jpg\")"
      ],
      "metadata": {
        "id": "Kn_CFNrXFkBT"
      },
      "execution_count": null,
      "outputs": []
    },
    {
      "cell_type": "code",
      "source": [
        "img"
      ],
      "metadata": {
        "colab": {
          "base_uri": "https://localhost:8080/",
          "height": 241
        },
        "id": "6mASoEYnFxTs",
        "outputId": "affa2619-a934-46b5-a03d-f1af5ce534e2"
      },
      "execution_count": null,
      "outputs": [
        {
          "output_type": "execute_result",
          "data": {
            "text/plain": [
              "<PIL.JpegImagePlugin.JpegImageFile image mode=RGB size=224x224>"
            ],
            "image/png": "[encoded data removed]"
          },
          "metadata": {},
          "execution_count": 46
        }
      ]
    },
    {
      "cell_type": "markdown",
      "source": [
        "### To extract dataset from directory"
      ],
      "metadata": {
        "id": "p7wH5zhBT_MN"
      }
    },
    {
      "cell_type": "code",
      "source": [
        "from tensorflow.keras.utils  import image_dataset_from_directory"
      ],
      "metadata": {
        "id": "NvjHsui_F5Ui"
      },
      "execution_count": null,
      "outputs": []
    },
    {
      "cell_type": "markdown",
      "source": [
        "### Setting Train and Test Path"
      ],
      "metadata": {
        "id": "IaW5b0UmUCxV"
      }
    },
    {
      "cell_type": "code",
      "source": [
        "\n",
        "train_path = \"/content/drive/MyDrive/kaggle/train\"\n",
        "test_path =  \"/content/drive/MyDrive/kaggle/test\""
      ],
      "metadata": {
        "id": "t1zD1ukxGN0x"
      },
      "execution_count": null,
      "outputs": []
    },
    {
      "cell_type": "markdown",
      "source": [
        "### Read the train and TEst Dataset using load image directory"
      ],
      "metadata": {
        "id": "Tuv9mACHUGc_"
      }
    },
    {
      "cell_type": "code",
      "source": [
        "\n",
        "train_dataset= image_dataset_from_directory(train_path, label_mode = \"categorical\", image_size = (228,228), batch_size = 32)\n",
        "test_dataset= image_dataset_from_directory(test_path, label_mode = \"categorical\", image_size = (228,228), batch_size = 32)"
      ],
      "metadata": {
        "colab": {
          "base_uri": "https://localhost:8080/"
        },
        "id": "vK6A3pSiGcXk",
        "outputId": "73d634ed-533e-47a9-9de2-672e14531b9f"
      },
      "execution_count": null,
      "outputs": [
        {
          "output_type": "stream",
          "name": "stdout",
          "text": [
            "Found 2637 files belonging to 2 classes.\n",
            "Found 660 files belonging to 2 classes.\n"
          ]
        }
      ]
    },
    {
      "cell_type": "code",
      "source": [
        "class_names = train_dataset.class_names\n",
        "class_names"
      ],
      "metadata": {
        "colab": {
          "base_uri": "https://localhost:8080/"
        },
        "id": "nN5477yVG8lI",
        "outputId": "3f034bb2-9ef1-41f0-fe6f-364aea3e5a0b"
      },
      "execution_count": null,
      "outputs": [
        {
          "output_type": "execute_result",
          "data": {
            "text/plain": [
              "['benign', 'malignant']"
            ]
          },
          "metadata": {},
          "execution_count": 11
        }
      ]
    },
    {
      "cell_type": "markdown",
      "source": [],
      "metadata": {
        "id": "1VLstYmDUJxC"
      }
    },
    {
      "cell_type": "code",
      "source": [
        "### Importing the model\n",
        "from tensorflow.keras.models import Sequential"
      ],
      "metadata": {
        "id": "ZT5gc4kNHORo"
      },
      "execution_count": null,
      "outputs": []
    },
    {
      "cell_type": "code",
      "source": [
        "from keras.api._v2.keras import layers\n",
        "## importing the layer\n",
        "from tensorflow.keras.layers import Dense,Flatten\n",
        "from tensorflow.keras import layers"
      ],
      "metadata": {
        "id": "ww6jSAGLHwC8"
      },
      "execution_count": null,
      "outputs": []
    },
    {
      "cell_type": "code",
      "source": [
        "from keras.src.layers.convolutional.conv2d_transpose import Conv2D\n",
        "model = Sequential(\n",
        ")\n",
        "model.add(layers.Conv2D(32, (3,3), input_shape = (228,228,3), activation= \"relu\"))\n",
        "model.add(layers.MaxPool2D(2,2))\n",
        "model.add(layers.Conv2D(64, (3,3), activation= \"relu\"))\n",
        "model.add(layers.MaxPool2D(2,2))\n",
        "model.add(layers.Conv2D(128, (3,3), activation= \"relu\"))\n",
        "model.add(layers.MaxPool2D(2,2))\n",
        "model.add(layers.Conv2D(256, (3,3), activation= \"relu\"))\n",
        "model.add(layers.MaxPool2D(2,2))\n",
        "model.add(Flatten())\n",
        "model.add(Dense(64, activation = 'relu'))\n",
        "model.add(Dense(2, activation = 'softmax'))\n",
        "model.summary()"
      ],
      "metadata": {
        "colab": {
          "base_uri": "https://localhost:8080/"
        },
        "id": "pWashm0THhnj",
        "outputId": "301e98fd-04dc-4894-df87-538c85548a3d"
      },
      "execution_count": null,
      "outputs": [
        {
          "output_type": "stream",
          "name": "stdout",
          "text": [
            "Model: \"sequential\"\n",
            "_________________________________________________________________\n",
            " Layer (type)                Output Shape              Param #   \n",
            "=================================================================\n",
            " conv2d (Conv2D)             (None, 226, 226, 32)      896       \n",
            "                                                                 \n",
            " max_pooling2d (MaxPooling2  (None, 113, 113, 32)      0         \n",
            " D)                                                              \n",
            "                                                                 \n",
            " conv2d_1 (Conv2D)           (None, 111, 111, 64)      18496     \n",
            "                                                                 \n",
            " max_pooling2d_1 (MaxPoolin  (None, 55, 55, 64)        0         \n",
            " g2D)                                                            \n",
            "                                                                 \n",
            " conv2d_2 (Conv2D)           (None, 53, 53, 128)       73856     \n",
            "                                                                 \n",
            " max_pooling2d_2 (MaxPoolin  (None, 26, 26, 128)       0         \n",
            " g2D)                                                            \n",
            "                                                                 \n",
            " conv2d_3 (Conv2D)           (None, 24, 24, 256)       295168    \n",
            "                                                                 \n",
            " max_pooling2d_3 (MaxPoolin  (None, 12, 12, 256)       0         \n",
            " g2D)                                                            \n",
            "                                                                 \n",
            " flatten (Flatten)           (None, 36864)             0         \n",
            "                                                                 \n",
            " dense (Dense)               (None, 64)                2359360   \n",
            "                                                                 \n",
            " dense_1 (Dense)             (None, 2)                 130       \n",
            "                                                                 \n",
            "=================================================================\n",
            "Total params: 2747906 (10.48 MB)\n",
            "Trainable params: 2747906 (10.48 MB)\n",
            "Non-trainable params: 0 (0.00 Byte)\n",
            "_________________________________________________________________\n"
          ]
        }
      ]
    },
    {
      "cell_type": "code",
      "source": [
        "from keras.src.mixed_precision.loss_scale_optimizer import optimizer\n",
        "## Compile the model\n",
        "model.compile(loss= 'binary_crossentropy',\n",
        "              optimizer = keras.optimizers.RMSprop(0.001),\n",
        "              )"
      ],
      "metadata": {
        "id": "t-Qg74w3Jqa1"
      },
      "execution_count": null,
      "outputs": []
    },
    {
      "cell_type": "code",
      "source": [
        "## Fitting the model\n",
        "history = model.fit(train_dataset, validation_data= test_dataset, epochs=30) #steps_per_epoch=5"
      ],
      "metadata": {
        "colab": {
          "base_uri": "https://localhost:8080/"
        },
        "id": "0RFiC5KbJ-17",
        "outputId": "5442933f-db36-49e0-fe57-3ec86e8f4253"
      },
      "execution_count": null,
      "outputs": [
        {
          "output_type": "stream",
          "name": "stdout",
          "text": [
            "Epoch 1/30\n",
            "83/83 [==============================] - 10s 107ms/step - loss: 0.7172 - val_loss: 0.6913\n",
            "Epoch 2/30\n",
            "83/83 [==============================] - 10s 118ms/step - loss: 0.6910 - val_loss: 0.6907\n",
            "Epoch 3/30\n",
            "83/83 [==============================] - 10s 116ms/step - loss: 0.6903 - val_loss: 0.6901\n",
            "Epoch 4/30\n",
            "83/83 [==============================] - 9s 99ms/step - loss: 0.6898 - val_loss: 0.6896\n",
            "Epoch 5/30\n",
            "83/83 [==============================] - 10s 114ms/step - loss: 0.6895 - val_loss: 0.6894\n",
            "Epoch 6/30\n",
            "83/83 [==============================] - 10s 117ms/step - loss: 0.6893 - val_loss: 0.6892\n",
            "Epoch 7/30\n",
            "83/83 [==============================] - 9s 98ms/step - loss: 0.6891 - val_loss: 0.6892\n",
            "Epoch 8/30\n",
            "83/83 [==============================] - 10s 113ms/step - loss: 0.6891 - val_loss: 0.6891\n",
            "Epoch 9/30\n",
            "83/83 [==============================] - 10s 118ms/step - loss: 0.6890 - val_loss: 0.6891\n",
            "Epoch 10/30\n",
            "83/83 [==============================] - 10s 110ms/step - loss: 0.6890 - val_loss: 0.6890\n",
            "Epoch 11/30\n",
            "83/83 [==============================] - 9s 102ms/step - loss: 0.6890 - val_loss: 0.6890\n",
            "Epoch 12/30\n",
            "83/83 [==============================] - 10s 116ms/step - loss: 0.6890 - val_loss: 0.6890\n",
            "Epoch 13/30\n",
            "83/83 [==============================] - 10s 110ms/step - loss: 0.6889 - val_loss: 0.6890\n",
            "Epoch 14/30\n",
            "83/83 [==============================] - 9s 102ms/step - loss: 0.6889 - val_loss: 0.6890\n",
            "Epoch 15/30\n",
            "83/83 [==============================] - 10s 115ms/step - loss: 0.6889 - val_loss: 0.6890\n",
            "Epoch 16/30\n",
            "83/83 [==============================] - 10s 115ms/step - loss: 0.6889 - val_loss: 0.6890\n",
            "Epoch 17/30\n",
            "83/83 [==============================] - 9s 99ms/step - loss: 0.6889 - val_loss: 0.6890\n",
            "Epoch 18/30\n",
            "83/83 [==============================] - 10s 110ms/step - loss: 0.6889 - val_loss: 0.6890\n",
            "Epoch 19/30\n",
            "83/83 [==============================] - 10s 115ms/step - loss: 0.6889 - val_loss: 0.6890\n",
            "Epoch 20/30\n",
            "83/83 [==============================] - 9s 108ms/step - loss: 0.6889 - val_loss: 0.6890\n",
            "Epoch 21/30\n",
            "83/83 [==============================] - 9s 104ms/step - loss: 0.6889 - val_loss: 0.6890\n",
            "Epoch 22/30\n",
            "83/83 [==============================] - 10s 115ms/step - loss: 0.6889 - val_loss: 0.6890\n",
            "Epoch 23/30\n",
            "83/83 [==============================] - 10s 115ms/step - loss: 0.6889 - val_loss: 0.6890\n",
            "Epoch 24/30\n",
            "83/83 [==============================] - 9s 102ms/step - loss: 0.6889 - val_loss: 0.6890\n",
            "Epoch 25/30\n",
            "83/83 [==============================] - 10s 115ms/step - loss: 0.6889 - val_loss: 0.6890\n",
            "Epoch 26/30\n",
            "83/83 [==============================] - 10s 115ms/step - loss: 0.6889 - val_loss: 0.6890\n",
            "Epoch 27/30\n",
            "83/83 [==============================] - 9s 104ms/step - loss: 0.6889 - val_loss: 0.6890\n",
            "Epoch 28/30\n",
            "83/83 [==============================] - 10s 106ms/step - loss: 0.6889 - val_loss: 0.6890\n",
            "Epoch 29/30\n",
            "83/83 [==============================] - 10s 116ms/step - loss: 0.6889 - val_loss: 0.6890\n",
            "Epoch 30/30\n",
            "83/83 [==============================] - 10s 112ms/step - loss: 0.6889 - val_loss: 0.6890\n"
          ]
        }
      ]
    },
    {
      "cell_type": "code",
      "source": [
        "### Apply Pre-Trained Model VGG16"
      ],
      "metadata": {
        "id": "jbEtrZ2kKYAM"
      },
      "execution_count": null,
      "outputs": []
    },
    {
      "cell_type": "code",
      "source": [
        "from tensorflow.keras.applications.vgg16 import VGG16, preprocess_input"
      ],
      "metadata": {
        "id": "2eSbfFK1LugY"
      },
      "execution_count": null,
      "outputs": []
    },
    {
      "cell_type": "code",
      "source": [
        "pretrained_model = VGG16(include_top = False,\n",
        "                         input_shape = (228,228,3),\n",
        "                         weights = \"imagenet\",\n",
        "                         pooling = \"max\",\n",
        "                         )"
      ],
      "metadata": {
        "id": "3x_QP2IrLwxf"
      },
      "execution_count": null,
      "outputs": []
    },
    {
      "cell_type": "code",
      "source": [
        "for layers in pretrained_model.layers:\n",
        "  layers.trainable = False\n",
        "pre_model = Sequential()\n",
        "pre_model.add(pretrained_model)\n",
        "pre_model.add(Flatten())\n",
        "pre_model.add(Dense(64, activation = 'relu'))\n",
        "pre_model.add(Dense(2, activation = 'softmax'))"
      ],
      "metadata": {
        "id": "7bYXWacRLxP0"
      },
      "execution_count": null,
      "outputs": []
    },
    {
      "cell_type": "code",
      "source": [
        "## Compile the pretrained_model\n",
        "pre_model.compile(loss= 'binary_crossentropy',\n",
        "              optimizer = keras.optimizers.RMSprop(0.001),\n",
        "              metrics = [\"accuracy\"]\n",
        "              )"
      ],
      "metadata": {
        "id": "zPwJx_rCMjqv"
      },
      "execution_count": null,
      "outputs": []
    },
    {
      "cell_type": "code",
      "source": [
        "## Fitting the pretrianed_model\n",
        "history_pretrained_model = pre_model.fit(train_dataset, validation_data= test_dataset,  epochs=30) #steps_per_epoch=20,"
      ],
      "metadata": {
        "colab": {
          "base_uri": "https://localhost:8080/"
        },
        "id": "xCGedjvCMl-I",
        "outputId": "bf748f38-970c-4b9b-f88c-19e4110929d6"
      },
      "execution_count": null,
      "outputs": [
        {
          "output_type": "stream",
          "name": "stdout",
          "text": [
            "Epoch 1/30\n",
            "83/83 [==============================] - 16s 179ms/step - loss: 0.4343 - accuracy: 0.8597 - val_loss: 0.9226 - val_accuracy: 0.7818\n",
            "Epoch 2/30\n",
            "83/83 [==============================] - 15s 180ms/step - loss: 0.3433 - accuracy: 0.8821 - val_loss: 0.8057 - val_accuracy: 0.7864\n",
            "Epoch 3/30\n",
            "83/83 [==============================] - 17s 203ms/step - loss: 0.2696 - accuracy: 0.8991 - val_loss: 0.8697 - val_accuracy: 0.8076\n",
            "Epoch 4/30\n",
            "83/83 [==============================] - 15s 177ms/step - loss: 0.2153 - accuracy: 0.9196 - val_loss: 0.6980 - val_accuracy: 0.8061\n",
            "Epoch 5/30\n",
            "83/83 [==============================] - 18s 205ms/step - loss: 0.1709 - accuracy: 0.9378 - val_loss: 0.6765 - val_accuracy: 0.8303\n",
            "Epoch 6/30\n",
            "83/83 [==============================] - 16s 181ms/step - loss: 0.1317 - accuracy: 0.9515 - val_loss: 0.7307 - val_accuracy: 0.8167\n",
            "Epoch 7/30\n",
            "83/83 [==============================] - 17s 202ms/step - loss: 0.1166 - accuracy: 0.9583 - val_loss: 0.7309 - val_accuracy: 0.8076\n",
            "Epoch 8/30\n",
            "83/83 [==============================] - 16s 190ms/step - loss: 0.0864 - accuracy: 0.9689 - val_loss: 0.8139 - val_accuracy: 0.8258\n",
            "Epoch 9/30\n",
            "83/83 [==============================] - 15s 178ms/step - loss: 0.0767 - accuracy: 0.9723 - val_loss: 0.7565 - val_accuracy: 0.8258\n",
            "Epoch 10/30\n",
            "83/83 [==============================] - 15s 178ms/step - loss: 0.0830 - accuracy: 0.9754 - val_loss: 0.7881 - val_accuracy: 0.8212\n",
            "Epoch 11/30\n",
            "83/83 [==============================] - 15s 179ms/step - loss: 0.0529 - accuracy: 0.9803 - val_loss: 0.8515 - val_accuracy: 0.8364\n",
            "Epoch 12/30\n",
            "83/83 [==============================] - 15s 178ms/step - loss: 0.0415 - accuracy: 0.9871 - val_loss: 0.8612 - val_accuracy: 0.8258\n",
            "Epoch 13/30\n",
            "83/83 [==============================] - 15s 178ms/step - loss: 0.0370 - accuracy: 0.9890 - val_loss: 0.9265 - val_accuracy: 0.8197\n",
            "Epoch 14/30\n",
            "83/83 [==============================] - 15s 177ms/step - loss: 0.0379 - accuracy: 0.9901 - val_loss: 0.9613 - val_accuracy: 0.8182\n",
            "Epoch 15/30\n",
            "83/83 [==============================] - 15s 179ms/step - loss: 0.0375 - accuracy: 0.9852 - val_loss: 0.9370 - val_accuracy: 0.8106\n",
            "Epoch 16/30\n",
            "83/83 [==============================] - 15s 178ms/step - loss: 0.0221 - accuracy: 0.9936 - val_loss: 1.0387 - val_accuracy: 0.8242\n",
            "Epoch 17/30\n",
            "83/83 [==============================] - 16s 180ms/step - loss: 0.0148 - accuracy: 0.9958 - val_loss: 1.0015 - val_accuracy: 0.8348\n",
            "Epoch 18/30\n",
            "83/83 [==============================] - 15s 180ms/step - loss: 0.0224 - accuracy: 0.9932 - val_loss: 1.1282 - val_accuracy: 0.8091\n",
            "Epoch 19/30\n",
            "83/83 [==============================] - 15s 178ms/step - loss: 0.0183 - accuracy: 0.9943 - val_loss: 1.0593 - val_accuracy: 0.8258\n",
            "Epoch 20/30\n",
            "83/83 [==============================] - 15s 177ms/step - loss: 0.0180 - accuracy: 0.9966 - val_loss: 1.0592 - val_accuracy: 0.8348\n",
            "Epoch 21/30\n",
            "83/83 [==============================] - 15s 178ms/step - loss: 0.0245 - accuracy: 0.9932 - val_loss: 1.0868 - val_accuracy: 0.8258\n",
            "Epoch 22/30\n",
            "83/83 [==============================] - 17s 199ms/step - loss: 0.0251 - accuracy: 0.9939 - val_loss: 1.0976 - val_accuracy: 0.8167\n",
            "Epoch 23/30\n",
            "83/83 [==============================] - 15s 178ms/step - loss: 0.0053 - accuracy: 0.9989 - val_loss: 1.7444 - val_accuracy: 0.8091\n",
            "Epoch 24/30\n",
            "83/83 [==============================] - 15s 179ms/step - loss: 0.0118 - accuracy: 0.9962 - val_loss: 1.2111 - val_accuracy: 0.8333\n",
            "Epoch 25/30\n",
            "83/83 [==============================] - 15s 178ms/step - loss: 0.0250 - accuracy: 0.9936 - val_loss: 1.2584 - val_accuracy: 0.8258\n",
            "Epoch 26/30\n",
            "83/83 [==============================] - 15s 177ms/step - loss: 0.0012 - accuracy: 1.0000 - val_loss: 1.1792 - val_accuracy: 0.8409\n",
            "Epoch 27/30\n",
            "83/83 [==============================] - 15s 177ms/step - loss: 0.0258 - accuracy: 0.9951 - val_loss: 1.2826 - val_accuracy: 0.8364\n",
            "Epoch 28/30\n",
            "83/83 [==============================] - 17s 199ms/step - loss: 0.0145 - accuracy: 0.9962 - val_loss: 1.2341 - val_accuracy: 0.8348\n",
            "Epoch 29/30\n",
            "83/83 [==============================] - 16s 182ms/step - loss: 0.0209 - accuracy: 0.9951 - val_loss: 1.2963 - val_accuracy: 0.8212\n",
            "Epoch 30/30\n",
            "83/83 [==============================] - 15s 178ms/step - loss: 0.0152 - accuracy: 0.9970 - val_loss: 1.3619 - val_accuracy: 0.8152\n"
          ]
        }
      ]
    },
    {
      "cell_type": "markdown",
      "source": [
        "### Apply Pre-Trained Model RESNET50"
      ],
      "metadata": {
        "id": "uwjYfDoHYGpG"
      }
    },
    {
      "cell_type": "code",
      "source": [
        "from tensorflow.keras.applications.resnet50 import ResNet50, preprocess_input"
      ],
      "metadata": {
        "id": "moru3WyIRnA2"
      },
      "execution_count": null,
      "outputs": []
    },
    {
      "cell_type": "code",
      "source": [
        "pretrained_model_RESNET50 = ResNet50(include_top = False,\n",
        "                         input_shape = (228,228,3),\n",
        "                         weights = \"imagenet\",\n",
        "                         pooling = \"max\",\n",
        "                         )"
      ],
      "metadata": {
        "colab": {
          "base_uri": "https://localhost:8080/"
        },
        "id": "u2r1wfy5RtIC",
        "outputId": "9fbfba5b-a947-49ad-af20-f5c30fb2abbd"
      },
      "execution_count": null,
      "outputs": [
        {
          "output_type": "stream",
          "name": "stdout",
          "text": [
            "Downloading data from https://storage.googleapis.com/tensorflow/keras-applications/resnet/resnet50_weights_tf_dim_ordering_tf_kernels_notop.h5\n",
            "94765736/94765736 [==============================] - 0s 0us/step\n"
          ]
        }
      ]
    },
    {
      "cell_type": "code",
      "source": [
        "for layers in pretrained_model.layers:\n",
        "  layers.trainable = False\n",
        "pre_model_ResNet50 = Sequential()\n",
        "pre_model_ResNet50.add(pretrained_model_RESNET50)\n",
        "pre_model_ResNet50.add(Flatten())\n",
        "pre_model_ResNet50.add(Dense(64, activation = 'relu'))\n",
        "pre_model_ResNet50.add(Dense(2, activation = 'softmax'))"
      ],
      "metadata": {
        "id": "YDLcId4hRvDE"
      },
      "execution_count": null,
      "outputs": []
    },
    {
      "cell_type": "code",
      "source": [
        "## Compile the pretrained_model\n",
        "pre_model_ResNet50.compile(loss= 'binary_crossentropy',\n",
        "              optimizer = keras.optimizers.RMSprop(0.001),\n",
        "              metrics = [\"accuracy\"]\n",
        "              )"
      ],
      "metadata": {
        "id": "O0x3dV8wRvo2"
      },
      "execution_count": null,
      "outputs": []
    },
    {
      "cell_type": "markdown",
      "source": [
        "### Fitting the pretrianed_model RESNET-50"
      ],
      "metadata": {
        "id": "w9f3dGgFYBxs"
      }
    },
    {
      "cell_type": "code",
      "source": [
        "history_pretrained_model_ResNet50 = pre_model_ResNet50.fit(train_dataset, validation_data= test_dataset,  epochs=30) #steps_per_epoch=20,"
      ],
      "metadata": {
        "colab": {
          "base_uri": "https://localhost:8080/"
        },
        "id": "9rrMGZGVR8vc",
        "outputId": "71c1be73-d1e4-47f0-e556-ee15448726c8"
      },
      "execution_count": null,
      "outputs": [
        {
          "output_type": "stream",
          "name": "stdout",
          "text": [
            "Epoch 1/30\n",
            "83/83 [==============================] - 70s 444ms/step - loss: 1.2003 - accuracy: 0.7531 - val_loss: 8.7465 - val_accuracy: 0.5500\n",
            "Epoch 2/30\n",
            "83/83 [==============================] - 32s 374ms/step - loss: 0.5601 - accuracy: 0.7554 - val_loss: 114.0428 - val_accuracy: 0.5485\n",
            "Epoch 3/30\n",
            "83/83 [==============================] - 32s 374ms/step - loss: 0.4527 - accuracy: 0.7907 - val_loss: 2.4383 - val_accuracy: 0.4712\n",
            "Epoch 4/30\n",
            "83/83 [==============================] - 32s 381ms/step - loss: 0.4135 - accuracy: 0.7945 - val_loss: 0.5620 - val_accuracy: 0.7864\n",
            "Epoch 5/30\n",
            "83/83 [==============================] - 34s 404ms/step - loss: 0.4279 - accuracy: 0.8089 - val_loss: 5.3919 - val_accuracy: 0.3758\n",
            "Epoch 6/30\n",
            "83/83 [==============================] - 32s 374ms/step - loss: 0.3668 - accuracy: 0.8229 - val_loss: 1.5643 - val_accuracy: 0.4909\n",
            "Epoch 7/30\n",
            "83/83 [==============================] - 34s 403ms/step - loss: 0.3545 - accuracy: 0.8366 - val_loss: 2.4043 - val_accuracy: 0.7485\n",
            "Epoch 8/30\n",
            "83/83 [==============================] - 32s 373ms/step - loss: 0.3166 - accuracy: 0.8544 - val_loss: 5.1518 - val_accuracy: 0.5106\n",
            "Epoch 9/30\n",
            "83/83 [==============================] - 31s 373ms/step - loss: 0.3175 - accuracy: 0.8574 - val_loss: 2.5119 - val_accuracy: 0.6333\n",
            "Epoch 10/30\n",
            "83/83 [==============================] - 32s 380ms/step - loss: 0.2943 - accuracy: 0.8589 - val_loss: 0.5343 - val_accuracy: 0.8439\n",
            "Epoch 11/30\n",
            "83/83 [==============================] - 32s 379ms/step - loss: 0.2841 - accuracy: 0.8673 - val_loss: 0.4533 - val_accuracy: 0.8121\n",
            "Epoch 12/30\n",
            "83/83 [==============================] - 31s 373ms/step - loss: 0.2775 - accuracy: 0.8798 - val_loss: 0.6059 - val_accuracy: 0.8197\n",
            "Epoch 13/30\n",
            "83/83 [==============================] - 31s 372ms/step - loss: 0.2511 - accuracy: 0.8885 - val_loss: 1.3422 - val_accuracy: 0.7364\n",
            "Epoch 14/30\n",
            "83/83 [==============================] - 34s 405ms/step - loss: 0.2669 - accuracy: 0.8851 - val_loss: 0.4725 - val_accuracy: 0.8394\n",
            "Epoch 15/30\n",
            "83/83 [==============================] - 34s 403ms/step - loss: 0.2719 - accuracy: 0.8893 - val_loss: 1.0785 - val_accuracy: 0.8197\n",
            "Epoch 16/30\n",
            "83/83 [==============================] - 32s 373ms/step - loss: 0.2418 - accuracy: 0.8938 - val_loss: 0.8938 - val_accuracy: 0.8106\n",
            "Epoch 17/30\n",
            "83/83 [==============================] - 31s 372ms/step - loss: 0.2180 - accuracy: 0.9041 - val_loss: 1.4758 - val_accuracy: 0.5121\n",
            "Epoch 18/30\n",
            "83/83 [==============================] - 32s 379ms/step - loss: 0.2187 - accuracy: 0.9113 - val_loss: 4.9941 - val_accuracy: 0.5864\n",
            "Epoch 19/30\n",
            "83/83 [==============================] - 32s 381ms/step - loss: 0.1868 - accuracy: 0.9196 - val_loss: 0.5375 - val_accuracy: 0.8303\n",
            "Epoch 20/30\n",
            "83/83 [==============================] - 32s 376ms/step - loss: 0.1661 - accuracy: 0.9374 - val_loss: 1.2235 - val_accuracy: 0.8121\n",
            "Epoch 21/30\n",
            "83/83 [==============================] - 34s 403ms/step - loss: 0.1691 - accuracy: 0.9389 - val_loss: 0.6817 - val_accuracy: 0.8015\n",
            "Epoch 22/30\n",
            "83/83 [==============================] - 32s 375ms/step - loss: 0.1521 - accuracy: 0.9386 - val_loss: 0.6182 - val_accuracy: 0.7803\n",
            "Epoch 23/30\n",
            "83/83 [==============================] - 34s 403ms/step - loss: 0.1274 - accuracy: 0.9515 - val_loss: 0.9190 - val_accuracy: 0.7242\n",
            "Epoch 24/30\n",
            "83/83 [==============================] - 32s 373ms/step - loss: 0.1254 - accuracy: 0.9518 - val_loss: 1.1503 - val_accuracy: 0.7561\n",
            "Epoch 25/30\n",
            "83/83 [==============================] - 32s 374ms/step - loss: 0.1085 - accuracy: 0.9636 - val_loss: 2.3051 - val_accuracy: 0.6455\n",
            "Epoch 26/30\n",
            "83/83 [==============================] - 34s 404ms/step - loss: 0.1068 - accuracy: 0.9625 - val_loss: 0.8629 - val_accuracy: 0.8318\n",
            "Epoch 27/30\n",
            "83/83 [==============================] - 32s 375ms/step - loss: 0.0845 - accuracy: 0.9681 - val_loss: 1.3505 - val_accuracy: 0.8212\n",
            "Epoch 28/30\n",
            "83/83 [==============================] - 32s 373ms/step - loss: 0.0774 - accuracy: 0.9685 - val_loss: 1.0344 - val_accuracy: 0.8500\n",
            "Epoch 29/30\n",
            "83/83 [==============================] - 32s 374ms/step - loss: 0.0875 - accuracy: 0.9670 - val_loss: 2.6437 - val_accuracy: 0.7833\n",
            "Epoch 30/30\n",
            "83/83 [==============================] - 34s 403ms/step - loss: 0.0706 - accuracy: 0.9750 - val_loss: 0.7479 - val_accuracy: 0.7864\n"
          ]
        }
      ]
    },
    {
      "cell_type": "markdown",
      "source": [
        "## INTEL Dataset"
      ],
      "metadata": {
        "id": "Bz8DvbUJtpmi"
      }
    },
    {
      "cell_type": "markdown",
      "source": [
        "### Multiclassification INTELClassification"
      ],
      "metadata": {
        "id": "H2KsMhNEky7I"
      }
    },
    {
      "cell_type": "code",
      "source": [
        "!kaggle datasets download -d puneet6060/intel-image-classification --unzip --force"
      ],
      "metadata": {
        "colab": {
          "base_uri": "https://localhost:8080/"
        },
        "id": "lWQJKmEBkriB",
        "outputId": "e7c4ff1f-1657-466c-8e7c-8d9b03a15078"
      },
      "execution_count": null,
      "outputs": [
        {
          "output_type": "stream",
          "name": "stdout",
          "text": [
            "Downloading intel-image-classification.zip to /content/drive/MyDrive/kaggle\n",
            " 99% 342M/346M [00:02<00:00, 193MB/s]\n",
            "100% 346M/346M [00:02<00:00, 155MB/s]\n"
          ]
        }
      ]
    },
    {
      "cell_type": "code",
      "source": [
        "train_dir = \"/content/drive/MyDrive/kaggle/seg_train/seg_train\""
      ],
      "metadata": {
        "id": "C5T8QUCrkrlN"
      },
      "execution_count": 115,
      "outputs": []
    },
    {
      "cell_type": "code",
      "source": [
        "validation_dir = \"/content/drive/MyDrive/kaggle/seg_test/seg_test\""
      ],
      "metadata": {
        "id": "L0a-y0YUkrqm"
      },
      "execution_count": 116,
      "outputs": []
    },
    {
      "cell_type": "code",
      "source": [
        "test_dir =  \"/content/drive/MyDrive/kaggle/seg_pred/seg_pred\""
      ],
      "metadata": {
        "id": "K9RryIRxkruq"
      },
      "execution_count": 117,
      "outputs": []
    },
    {
      "cell_type": "code",
      "source": [
        "train_dataset_intel = image_dataset_from_directory(train_dir, label_mode = \"categorical\", image_size = (228,228), batch_size=32)\n",
        "test_dataset_intel = image_dataset_from_directory(validation_dir, label_mode = \"categorical\", image_size = (228,228), batch_size=32)"
      ],
      "metadata": {
        "colab": {
          "base_uri": "https://localhost:8080/"
        },
        "id": "86vA2O2rkryj",
        "outputId": "2723504b-f0ee-4162-ea90-9fc0162014af"
      },
      "execution_count": 128,
      "outputs": [
        {
          "output_type": "stream",
          "name": "stdout",
          "text": [
            "Found 14034 files belonging to 6 classes.\n",
            "Found 3000 files belonging to 6 classes.\n"
          ]
        }
      ]
    },
    {
      "cell_type": "code",
      "source": [
        "class_names = train_dataset_intel.class_names\n",
        "class_names"
      ],
      "metadata": {
        "colab": {
          "base_uri": "https://localhost:8080/"
        },
        "id": "ooS6q-enkr2_",
        "outputId": "d8358d33-018e-4ba1-8ef0-55a2277f7443"
      },
      "execution_count": 129,
      "outputs": [
        {
          "output_type": "execute_result",
          "data": {
            "text/plain": [
              "['buildings', 'forest', 'glacier', 'mountain', 'sea', 'street']"
            ]
          },
          "metadata": {},
          "execution_count": 129
        }
      ]
    },
    {
      "cell_type": "code",
      "source": [
        "class_names = test_dataset_intel.class_names\n",
        "class_names"
      ],
      "metadata": {
        "colab": {
          "base_uri": "https://localhost:8080/"
        },
        "id": "B5eNbvlaoE5a",
        "outputId": "a997b14f-a692-4de1-a930-1eb295d3b639"
      },
      "execution_count": 130,
      "outputs": [
        {
          "output_type": "execute_result",
          "data": {
            "text/plain": [
              "['buildings', 'forest', 'glacier', 'mountain', 'sea', 'street']"
            ]
          },
          "metadata": {},
          "execution_count": 130
        }
      ]
    },
    {
      "cell_type": "code",
      "source": [
        "model_intelDataset=Sequential()"
      ],
      "metadata": {
        "id": "zgY8xROsp_h7"
      },
      "execution_count": 137,
      "outputs": []
    },
    {
      "cell_type": "code",
      "source": [
        "pretrained_model=keras.applications.vgg16.VGG16(\n",
        "    include_top=False,\n",
        "    weights=\"imagenet\",\n",
        "    input_shape=(228,228,3),\n",
        "    pooling='avg',\n",
        ")"
      ],
      "metadata": {
        "id": "UTGYZ28wkr7B"
      },
      "execution_count": 138,
      "outputs": []
    },
    {
      "cell_type": "code",
      "source": [
        "for layers in pretrained_model.layers:\n",
        "  layers.trainable=False\n",
        "model_intelDataset.add(pretrained_model)\n",
        "model_intelDataset.add(Flatten())\n",
        "model_intelDataset.add(Dense(64, activation='relu'))\n",
        "model_intelDataset.add(Dense(6,activation='softmax'))"
      ],
      "metadata": {
        "id": "kzu_Gl0GqvE2"
      },
      "execution_count": 139,
      "outputs": []
    },
    {
      "cell_type": "code",
      "source": [
        "model_intelDataset.compile(loss=\"binary_crossentropy\",\n",
        " optimizer=keras.optimizers.RMSprop(learning_rate=0.001),\n",
        " metrics=[\"accuracy\"])"
      ],
      "metadata": {
        "id": "25ybiO1tkr_H"
      },
      "execution_count": 140,
      "outputs": []
    },
    {
      "cell_type": "code",
      "source": [
        "history=model_intelDataset.fit(\n",
        "    train_dataset_intel,\n",
        "    validation_data=test_dataset_intel,\n",
        "    epochs=30\n",
        ")"
      ],
      "metadata": {
        "id": "E6NqcEyyksDb",
        "colab": {
          "base_uri": "https://localhost:8080/"
        },
        "outputId": "d385d562-1b79-4d2e-8935-1000fb4cc9ba"
      },
      "execution_count": 141,
      "outputs": [
        {
          "output_type": "stream",
          "name": "stdout",
          "text": [
            "Epoch 1/30\n",
            "439/439 [==============================] - 85s 186ms/step - loss: 0.1488 - accuracy: 0.8460 - val_loss: 0.1201 - val_accuracy: 0.8773\n",
            "Epoch 2/30\n",
            "439/439 [==============================] - 75s 169ms/step - loss: 0.0909 - accuracy: 0.9037 - val_loss: 0.1039 - val_accuracy: 0.8910\n",
            "Epoch 3/30\n",
            "439/439 [==============================] - 75s 169ms/step - loss: 0.0772 - accuracy: 0.9183 - val_loss: 0.0982 - val_accuracy: 0.9003\n",
            "Epoch 4/30\n",
            "439/439 [==============================] - 75s 169ms/step - loss: 0.0690 - accuracy: 0.9263 - val_loss: 0.0982 - val_accuracy: 0.9023\n",
            "Epoch 5/30\n",
            "439/439 [==============================] - 74s 169ms/step - loss: 0.0621 - accuracy: 0.9334 - val_loss: 0.1003 - val_accuracy: 0.9040\n",
            "Epoch 6/30\n",
            "439/439 [==============================] - 74s 169ms/step - loss: 0.0560 - accuracy: 0.9414 - val_loss: 0.1043 - val_accuracy: 0.9087\n",
            "Epoch 7/30\n",
            "439/439 [==============================] - 74s 169ms/step - loss: 0.0499 - accuracy: 0.9490 - val_loss: 0.1047 - val_accuracy: 0.9047\n",
            "Epoch 8/30\n",
            "439/439 [==============================] - 82s 186ms/step - loss: 0.0453 - accuracy: 0.9540 - val_loss: 0.1126 - val_accuracy: 0.9047\n",
            "Epoch 9/30\n",
            "439/439 [==============================] - 75s 169ms/step - loss: 0.0410 - accuracy: 0.9597 - val_loss: 0.1156 - val_accuracy: 0.9083\n",
            "Epoch 10/30\n",
            "439/439 [==============================] - 75s 170ms/step - loss: 0.0368 - accuracy: 0.9622 - val_loss: 0.1309 - val_accuracy: 0.9003\n",
            "Epoch 11/30\n",
            "439/439 [==============================] - 75s 169ms/step - loss: 0.0324 - accuracy: 0.9683 - val_loss: 0.1297 - val_accuracy: 0.8990\n",
            "Epoch 12/30\n",
            "439/439 [==============================] - 74s 169ms/step - loss: 0.0290 - accuracy: 0.9721 - val_loss: 0.1338 - val_accuracy: 0.8947\n",
            "Epoch 13/30\n",
            "439/439 [==============================] - 82s 185ms/step - loss: 0.0254 - accuracy: 0.9757 - val_loss: 0.1473 - val_accuracy: 0.8990\n",
            "Epoch 14/30\n",
            "439/439 [==============================] - 82s 186ms/step - loss: 0.0234 - accuracy: 0.9791 - val_loss: 0.1549 - val_accuracy: 0.8973\n",
            "Epoch 15/30\n",
            "439/439 [==============================] - 82s 186ms/step - loss: 0.0207 - accuracy: 0.9823 - val_loss: 0.1706 - val_accuracy: 0.8937\n",
            "Epoch 16/30\n",
            "439/439 [==============================] - 82s 186ms/step - loss: 0.0184 - accuracy: 0.9839 - val_loss: 0.1631 - val_accuracy: 0.8983\n",
            "Epoch 17/30\n",
            "439/439 [==============================] - 75s 170ms/step - loss: 0.0163 - accuracy: 0.9860 - val_loss: 0.1731 - val_accuracy: 0.8977\n",
            "Epoch 18/30\n",
            "439/439 [==============================] - 75s 170ms/step - loss: 0.0146 - accuracy: 0.9875 - val_loss: 0.1867 - val_accuracy: 0.8940\n",
            "Epoch 19/30\n",
            "439/439 [==============================] - 82s 186ms/step - loss: 0.0128 - accuracy: 0.9897 - val_loss: 0.1937 - val_accuracy: 0.8950\n",
            "Epoch 20/30\n",
            "439/439 [==============================] - 75s 170ms/step - loss: 0.0113 - accuracy: 0.9911 - val_loss: 0.2087 - val_accuracy: 0.8963\n",
            "Epoch 21/30\n",
            "439/439 [==============================] - 75s 169ms/step - loss: 0.0100 - accuracy: 0.9927 - val_loss: 0.2220 - val_accuracy: 0.8920\n",
            "Epoch 22/30\n",
            "439/439 [==============================] - 74s 169ms/step - loss: 0.0093 - accuracy: 0.9928 - val_loss: 0.2262 - val_accuracy: 0.8977\n",
            "Epoch 23/30\n",
            "439/439 [==============================] - 75s 169ms/step - loss: 0.0077 - accuracy: 0.9941 - val_loss: 0.2335 - val_accuracy: 0.8917\n",
            "Epoch 24/30\n",
            "439/439 [==============================] - 75s 169ms/step - loss: 0.0077 - accuracy: 0.9942 - val_loss: 0.2490 - val_accuracy: 0.8883\n",
            "Epoch 25/30\n",
            "439/439 [==============================] - 75s 169ms/step - loss: 0.0067 - accuracy: 0.9957 - val_loss: 0.2505 - val_accuracy: 0.8913\n",
            "Epoch 26/30\n",
            "439/439 [==============================] - 75s 169ms/step - loss: 0.0061 - accuracy: 0.9954 - val_loss: 0.2629 - val_accuracy: 0.8903\n",
            "Epoch 27/30\n",
            "439/439 [==============================] - 75s 169ms/step - loss: 0.0053 - accuracy: 0.9963 - val_loss: 0.2765 - val_accuracy: 0.8890\n",
            "Epoch 28/30\n",
            "439/439 [==============================] - 74s 168ms/step - loss: 0.0049 - accuracy: 0.9963 - val_loss: 0.2523 - val_accuracy: 0.8970\n",
            "Epoch 29/30\n",
            "439/439 [==============================] - 74s 168ms/step - loss: 0.0048 - accuracy: 0.9964 - val_loss: 0.2761 - val_accuracy: 0.8940\n",
            "Epoch 30/30\n",
            "439/439 [==============================] - 82s 186ms/step - loss: 0.0039 - accuracy: 0.9972 - val_loss: 0.2893 - val_accuracy: 0.8940\n"
          ]
        }
      ]
    },
    {
      "cell_type": "code",
      "source": [
        "test_loss, test_acc = model_intelDataset.evaluate(test_dataset_intel)\n",
        "print(f\"Test accuracy: {test_acc:.3f}\")"
      ],
      "metadata": {
        "id": "oIWHqMCoksH-",
        "colab": {
          "base_uri": "https://localhost:8080/"
        },
        "outputId": "98a419cf-25c5-429a-930f-a60543a7cf98"
      },
      "execution_count": 143,
      "outputs": [
        {
          "output_type": "stream",
          "name": "stdout",
          "text": [
            "94/94 [==============================] - 13s 135ms/step - loss: 0.2893 - accuracy: 0.8940\n",
            "Test accuracy: 0.894\n"
          ]
        }
      ]
    },
    {
      "cell_type": "markdown",
      "source": [
        "## MultiClassifcation Bird DAtaset"
      ],
      "metadata": {
        "id": "Bb06-vAGt5EV"
      }
    },
    {
      "cell_type": "markdown",
      "source": [
        "### Creating the Model on MultiClassifcation Bird DAtaset"
      ],
      "metadata": {
        "id": "s68JryYjYhyN"
      }
    },
    {
      "cell_type": "code",
      "source": [
        "## Checking the Kaggle Directory\n",
        "!ls"
      ],
      "metadata": {
        "colab": {
          "base_uri": "https://localhost:8080/"
        },
        "id": "72xVaZjuYiS1",
        "outputId": "5fceceff-7308-4a30-f7ef-f633a9e9df32"
      },
      "execution_count": null,
      "outputs": [
        {
          "output_type": "stream",
          "name": "stdout",
          "text": [
            "data\t\t\t\tkaggle.json\t\t\t     test\n",
            "Grapevine_Leaves_Image_Dataset\tskin-cancer-malignant-vs-benign.zip  train\n"
          ]
        }
      ]
    },
    {
      "cell_type": "markdown",
      "source": [
        "### Extraction and Unzip the bird Dataset from Kaggle"
      ],
      "metadata": {
        "id": "Uu-f0aXNY102"
      }
    },
    {
      "cell_type": "code",
      "source": [
        "!kaggle datasets download -d imbikramsaha/drone-bird-classification --unzip --force"
      ],
      "metadata": {
        "colab": {
          "base_uri": "https://localhost:8080/"
        },
        "id": "ZC0-TKeCY4Qb",
        "outputId": "537bebbf-5cea-418a-d7eb-cd69a977cbc1"
      },
      "execution_count": null,
      "outputs": [
        {
          "output_type": "stream",
          "name": "stdout",
          "text": [
            "Downloading drone-bird-classification.zip to /content/drive/MyDrive/kaggle\n",
            " 77% 31.0M/40.0M [00:00<00:00, 104MB/s] \n",
            "100% 40.0M/40.0M [00:00<00:00, 88.9MB/s]\n"
          ]
        }
      ]
    },
    {
      "cell_type": "markdown",
      "source": [
        "### Load and Check the images"
      ],
      "metadata": {
        "id": "xE9Wlj13ZagK"
      }
    },
    {
      "cell_type": "code",
      "source": [
        "from tensorflow.keras.utils import load_img"
      ],
      "metadata": {
        "id": "WqRFnJuEY9IC"
      },
      "execution_count": null,
      "outputs": []
    },
    {
      "cell_type": "code",
      "source": [
        "bird_image = load_img(\"/content/drive/MyDrive/kaggle/drone_or_bird/birds/0628debe-4429-4d78-b4ad-30f5e951841c.jpg\")"
      ],
      "metadata": {
        "id": "xAV2lyonZVV4"
      },
      "execution_count": null,
      "outputs": []
    },
    {
      "cell_type": "code",
      "source": [
        "bird_image"
      ],
      "metadata": {
        "colab": {
          "base_uri": "https://localhost:8080/",
          "height": 267
        },
        "id": "h4bD9OisbuSS",
        "outputId": "012fdd8f-25ef-4901-f7eb-2ef7f8c54799"
      },
      "execution_count": null,
      "outputs": [
        {
          "output_type": "execute_result",
          "data": {
            "text/plain": [
              "<PIL.JpegImagePlugin.JpegImageFile image mode=RGB size=400x250>"
            ],
            "image/png": "[encoded data removed]"
          },
          "metadata": {},
          "execution_count": 54
        }
      ]
    },
    {
      "cell_type": "markdown",
      "source": [
        "### Set the path to fetch traing and test dataset"
      ],
      "metadata": {
        "id": "fLD2wBgacnIB"
      }
    },
    {
      "cell_type": "code",
      "source": [
        "## Import the path Library"
      ],
      "metadata": {
        "id": "FATZqgxIc5h3"
      },
      "execution_count": null,
      "outputs": []
    },
    {
      "cell_type": "code",
      "source": [
        "path=('/content/drive/MyDrive/kaggle/drone_or_bird')"
      ],
      "metadata": {
        "id": "xH-lJl3CcmWP"
      },
      "execution_count": null,
      "outputs": []
    },
    {
      "cell_type": "markdown",
      "source": [
        "### Spliting the Dataset into Training and Testing"
      ],
      "metadata": {
        "id": "g18-M5c0cXXR"
      }
    },
    {
      "cell_type": "code",
      "source": [
        "## Import the libaries\n",
        "from tensorflow.keras.utils import image_dataset_from_directory"
      ],
      "metadata": {
        "id": "vfG_G6debzPO"
      },
      "execution_count": null,
      "outputs": []
    },
    {
      "cell_type": "code",
      "source": [
        "train_dataset_b_d = image_dataset_from_directory(path,validation_split=0.2,subset=\"training\" ,seed=123,label_mode='categorical',image_size=(228, 228), batch_size=32)\n",
        "validation_data_b_d = image_dataset_from_directory(path,validation_split=0.2,subset=\"validation\" ,seed=123,label_mode='categorical',image_size=(228, 228), batch_size=32)"
      ],
      "metadata": {
        "colab": {
          "base_uri": "https://localhost:8080/"
        },
        "id": "HxbNJ7zeccZx",
        "outputId": "3eda7596-5270-4d27-9e5b-5ac2461765a1"
      },
      "execution_count": null,
      "outputs": [
        {
          "output_type": "stream",
          "name": "stdout",
          "text": [
            "Found 329 files belonging to 2 classes.\n",
            "Using 264 files for training.\n",
            "Found 329 files belonging to 2 classes.\n",
            "Using 65 files for validation.\n"
          ]
        }
      ]
    },
    {
      "cell_type": "code",
      "source": [
        "train_dataset_b_d"
      ],
      "metadata": {
        "colab": {
          "base_uri": "https://localhost:8080/"
        },
        "id": "MfpStla9j49Y",
        "outputId": "73316fce-e022-4e1f-bcb3-31b1eb3180d6"
      },
      "execution_count": null,
      "outputs": [
        {
          "output_type": "execute_result",
          "data": {
            "text/plain": [
              "<_BatchDataset element_spec=(TensorSpec(shape=(None, 228, 228, 3), dtype=tf.float32, name=None), TensorSpec(shape=(None, 2), dtype=tf.float32, name=None))>"
            ]
          },
          "metadata": {},
          "execution_count": 93
        }
      ]
    },
    {
      "cell_type": "code",
      "source": [
        "class_names=train_dataset.class_names\n",
        "class_names"
      ],
      "metadata": {
        "colab": {
          "base_uri": "https://localhost:8080/"
        },
        "id": "ipUAzNf1ccjI",
        "outputId": "cd561281-6f36-425d-affd-345c4b76868a"
      },
      "execution_count": null,
      "outputs": [
        {
          "output_type": "execute_result",
          "data": {
            "text/plain": [
              "['birds', 'drones']"
            ]
          },
          "metadata": {},
          "execution_count": 75
        }
      ]
    },
    {
      "cell_type": "markdown",
      "source": [
        "### DAta Augmentation"
      ],
      "metadata": {
        "id": "1cLViPSccETJ"
      }
    },
    {
      "cell_type": "code",
      "source": [
        "## import the library\n",
        "from tensorflow.keras.preprocessing.image import ImageDataGenerator"
      ],
      "metadata": {
        "id": "U9Uf1BXxdzbM"
      },
      "execution_count": null,
      "outputs": []
    },
    {
      "cell_type": "code",
      "source": [
        "train_datagen = ImageDataGenerator(\n",
        "    rescale=1./255,\n",
        "    rotation_range=40,\n",
        "    width_shift_range=0.2,\n",
        "    height_shift_range=0.2,\n",
        "    shear_range=0.2,\n",
        "    zoom_range=0.2,\n",
        "    horizontal_flip=True, )"
      ],
      "metadata": {
        "id": "bMTuNJnLbzY2"
      },
      "execution_count": null,
      "outputs": []
    },
    {
      "cell_type": "code",
      "source": [
        "train_generator = train_datagen.flow_from_directory(\n",
        "    path,\n",
        "    target_size=(228, 228),\n",
        "    batch_size=32,\n",
        "    class_mode='binary')"
      ],
      "metadata": {
        "colab": {
          "base_uri": "https://localhost:8080/"
        },
        "id": "708jPavaeMpU",
        "outputId": "e5989322-bdbd-4211-e06c-1eccc136ab69"
      },
      "execution_count": null,
      "outputs": [
        {
          "output_type": "stream",
          "name": "stdout",
          "text": [
            "Found 326 images belonging to 2 classes.\n"
          ]
        }
      ]
    },
    {
      "cell_type": "code",
      "source": [],
      "metadata": {
        "id": "yVPYh5u_epgC"
      },
      "execution_count": null,
      "outputs": []
    },
    {
      "cell_type": "markdown",
      "source": [
        "### Build the Model"
      ],
      "metadata": {
        "id": "vpMBAmjZcAIm"
      }
    },
    {
      "cell_type": "code",
      "source": [
        "## working on above built model"
      ],
      "metadata": {
        "id": "Ww-5zi-0cPNJ"
      },
      "execution_count": null,
      "outputs": []
    },
    {
      "cell_type": "code",
      "source": [
        "model.summary()"
      ],
      "metadata": {
        "colab": {
          "base_uri": "https://localhost:8080/"
        },
        "id": "l4KKpth7g_i8",
        "outputId": "7d12c529-ee35-43e2-87a7-6f16109bc0d0"
      },
      "execution_count": null,
      "outputs": [
        {
          "output_type": "stream",
          "name": "stdout",
          "text": [
            "Model: \"sequential\"\n",
            "_________________________________________________________________\n",
            " Layer (type)                Output Shape              Param #   \n",
            "=================================================================\n",
            " conv2d (Conv2D)             (None, 226, 226, 32)      896       \n",
            "                                                                 \n",
            " max_pooling2d (MaxPooling2  (None, 113, 113, 32)      0         \n",
            " D)                                                              \n",
            "                                                                 \n",
            " conv2d_1 (Conv2D)           (None, 111, 111, 64)      18496     \n",
            "                                                                 \n",
            " max_pooling2d_1 (MaxPoolin  (None, 55, 55, 64)        0         \n",
            " g2D)                                                            \n",
            "                                                                 \n",
            " conv2d_2 (Conv2D)           (None, 53, 53, 128)       73856     \n",
            "                                                                 \n",
            " max_pooling2d_2 (MaxPoolin  (None, 26, 26, 128)       0         \n",
            " g2D)                                                            \n",
            "                                                                 \n",
            " conv2d_3 (Conv2D)           (None, 24, 24, 256)       295168    \n",
            "                                                                 \n",
            " max_pooling2d_3 (MaxPoolin  (None, 12, 12, 256)       0         \n",
            " g2D)                                                            \n",
            "                                                                 \n",
            " flatten (Flatten)           (None, 36864)             0         \n",
            "                                                                 \n",
            " dense (Dense)               (None, 64)                2359360   \n",
            "                                                                 \n",
            " dense_1 (Dense)             (None, 2)                 130       \n",
            "                                                                 \n",
            "=================================================================\n",
            "Total params: 2747906 (10.48 MB)\n",
            "Trainable params: 2747906 (10.48 MB)\n",
            "Non-trainable params: 0 (0.00 Byte)\n",
            "_________________________________________________________________\n"
          ]
        }
      ]
    },
    {
      "cell_type": "code",
      "source": [
        "model.compile(loss= 'binary_crossentropy',\n",
        "              optimizer = keras.optimizers.RMSprop(0.001),\n",
        "              metrics = \"[accuracy]\"\n",
        "              )"
      ],
      "metadata": {
        "id": "ucGY9IGicPas"
      },
      "execution_count": null,
      "outputs": []
    },
    {
      "cell_type": "code",
      "source": [
        "## Fitting the model\n",
        "history=model.fit(\n",
        "    train_dataset_b_d,\n",
        "    validation_data=validation_data_b_d,\n",
        "    epochs=30\n",
        ")"
      ],
      "metadata": {
        "id": "0T8zhVSpcPpP"
      },
      "execution_count": null,
      "outputs": []
    },
    {
      "cell_type": "code",
      "source": [],
      "metadata": {
        "id": "NlVDHnaoget8"
      },
      "execution_count": null,
      "outputs": []
    }
  ]
}